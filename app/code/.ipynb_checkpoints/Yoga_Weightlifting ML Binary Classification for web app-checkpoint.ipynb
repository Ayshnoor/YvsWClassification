{
 "cells": [
  {
   "cell_type": "markdown",
   "metadata": {},
   "source": [
    "## Y&W ML Binary Classification preparation for web app. \n",
    "* Expanded project completed during GA \n",
    "* Using self description reddit texts to create one ML model for web application  \n"
   ]
  },
  {
   "cell_type": "code",
   "execution_count": 59,
   "metadata": {},
   "outputs": [],
   "source": [
    "import pandas as pd\n",
    "\n",
    "combined_self_text = pd.read_csv('../data/CombinedDataset_Selftext.csv')"
   ]
  },
  {
   "cell_type": "code",
   "execution_count": 60,
   "metadata": {},
   "outputs": [
    {
     "data": {
      "text/html": [
       "<div>\n",
       "<style scoped>\n",
       "    .dataframe tbody tr th:only-of-type {\n",
       "        vertical-align: middle;\n",
       "    }\n",
       "\n",
       "    .dataframe tbody tr th {\n",
       "        vertical-align: top;\n",
       "    }\n",
       "\n",
       "    .dataframe thead th {\n",
       "        text-align: right;\n",
       "    }\n",
       "</style>\n",
       "<table border=\"1\" class=\"dataframe\">\n",
       "  <thead>\n",
       "    <tr style=\"text-align: right;\">\n",
       "      <th></th>\n",
       "      <th>Unnamed: 0</th>\n",
       "      <th>author</th>\n",
       "      <th>selftext_clean</th>\n",
       "      <th>selftext_clean_l</th>\n",
       "      <th>identifier</th>\n",
       "    </tr>\n",
       "  </thead>\n",
       "  <tbody>\n",
       "    <tr>\n",
       "      <th>0</th>\n",
       "      <td>0</td>\n",
       "      <td>rugbyjukes</td>\n",
       "      <td>buenos dias yogis years ago certified teach yo...</td>\n",
       "      <td>buenos dia yogi year ago certified teach yoga ...</td>\n",
       "      <td>1</td>\n",
       "    </tr>\n",
       "    <tr>\n",
       "      <th>1</th>\n",
       "      <td>1</td>\n",
       "      <td>night_trotter</td>\n",
       "      <td>removed</td>\n",
       "      <td>removed</td>\n",
       "      <td>1</td>\n",
       "    </tr>\n",
       "    <tr>\n",
       "      <th>2</th>\n",
       "      <td>2</td>\n",
       "      <td>Lilly-of-the-Lake</td>\n",
       "      <td>issue sort rolling motion knee weight super pa...</td>\n",
       "      <td>issue sort rolling motion knee weight super pa...</td>\n",
       "      <td>1</td>\n",
       "    </tr>\n",
       "    <tr>\n",
       "      <th>3</th>\n",
       "      <td>3</td>\n",
       "      <td>NeedlessTrash</td>\n",
       "      <td>hello get information yoga already tried start...</td>\n",
       "      <td>hello get information yoga already tried start...</td>\n",
       "      <td>1</td>\n",
       "    </tr>\n",
       "    <tr>\n",
       "      <th>4</th>\n",
       "      <td>4</td>\n",
       "      <td>Creeper2020</td>\n",
       "      <td>wondering people deep clean mats physically cl...</td>\n",
       "      <td>wondering people deep clean mat physically cle...</td>\n",
       "      <td>1</td>\n",
       "    </tr>\n",
       "  </tbody>\n",
       "</table>\n",
       "</div>"
      ],
      "text/plain": [
       "   Unnamed: 0             author  \\\n",
       "0           0         rugbyjukes   \n",
       "1           1      night_trotter   \n",
       "2           2  Lilly-of-the-Lake   \n",
       "3           3      NeedlessTrash   \n",
       "4           4        Creeper2020   \n",
       "\n",
       "                                      selftext_clean  \\\n",
       "0  buenos dias yogis years ago certified teach yo...   \n",
       "1                                            removed   \n",
       "2  issue sort rolling motion knee weight super pa...   \n",
       "3  hello get information yoga already tried start...   \n",
       "4  wondering people deep clean mats physically cl...   \n",
       "\n",
       "                                    selftext_clean_l  identifier  \n",
       "0  buenos dia yogi year ago certified teach yoga ...           1  \n",
       "1                                            removed           1  \n",
       "2  issue sort rolling motion knee weight super pa...           1  \n",
       "3  hello get information yoga already tried start...           1  \n",
       "4  wondering people deep clean mat physically cle...           1  "
      ]
     },
     "execution_count": 60,
     "metadata": {},
     "output_type": "execute_result"
    }
   ],
   "source": [
    "combined_self_text.head()"
   ]
  },
  {
   "cell_type": "code",
   "execution_count": 61,
   "metadata": {},
   "outputs": [],
   "source": [
    "combined_self_text.drop('Unnamed: 0', axis=1, inplace=True)"
   ]
  },
  {
   "cell_type": "code",
   "execution_count": 62,
   "metadata": {},
   "outputs": [],
   "source": [
    "combined_self_text = combined_self_text[(combined_self_text['selftext_clean_l'].notnull())]"
   ]
  },
  {
   "cell_type": "code",
   "execution_count": 63,
   "metadata": {},
   "outputs": [],
   "source": [
    "combined_self_text = combined_self_text[(combined_self_text['selftext_clean_l'] != 'removed')]"
   ]
  },
  {
   "cell_type": "code",
   "execution_count": 64,
   "metadata": {},
   "outputs": [
    {
     "data": {
      "text/html": [
       "<div>\n",
       "<style scoped>\n",
       "    .dataframe tbody tr th:only-of-type {\n",
       "        vertical-align: middle;\n",
       "    }\n",
       "\n",
       "    .dataframe tbody tr th {\n",
       "        vertical-align: top;\n",
       "    }\n",
       "\n",
       "    .dataframe thead th {\n",
       "        text-align: right;\n",
       "    }\n",
       "</style>\n",
       "<table border=\"1\" class=\"dataframe\">\n",
       "  <thead>\n",
       "    <tr style=\"text-align: right;\">\n",
       "      <th></th>\n",
       "      <th>author</th>\n",
       "      <th>selftext_clean</th>\n",
       "      <th>selftext_clean_l</th>\n",
       "      <th>identifier</th>\n",
       "    </tr>\n",
       "  </thead>\n",
       "  <tbody>\n",
       "    <tr>\n",
       "      <th>0</th>\n",
       "      <td>rugbyjukes</td>\n",
       "      <td>buenos dias yogis years ago certified teach yo...</td>\n",
       "      <td>buenos dia yogi year ago certified teach yoga ...</td>\n",
       "      <td>1</td>\n",
       "    </tr>\n",
       "    <tr>\n",
       "      <th>2</th>\n",
       "      <td>Lilly-of-the-Lake</td>\n",
       "      <td>issue sort rolling motion knee weight super pa...</td>\n",
       "      <td>issue sort rolling motion knee weight super pa...</td>\n",
       "      <td>1</td>\n",
       "    </tr>\n",
       "    <tr>\n",
       "      <th>3</th>\n",
       "      <td>NeedlessTrash</td>\n",
       "      <td>hello get information yoga already tried start...</td>\n",
       "      <td>hello get information yoga already tried start...</td>\n",
       "      <td>1</td>\n",
       "    </tr>\n",
       "    <tr>\n",
       "      <th>4</th>\n",
       "      <td>Creeper2020</td>\n",
       "      <td>wondering people deep clean mats physically cl...</td>\n",
       "      <td>wondering people deep clean mat physically cle...</td>\n",
       "      <td>1</td>\n",
       "    </tr>\n",
       "    <tr>\n",
       "      <th>5</th>\n",
       "      <td>Hadouken_Dazs</td>\n",
       "      <td>starting yoga yoga adrienne good channel learn...</td>\n",
       "      <td>starting yoga yoga adrienne good channel learn...</td>\n",
       "      <td>1</td>\n",
       "    </tr>\n",
       "  </tbody>\n",
       "</table>\n",
       "</div>"
      ],
      "text/plain": [
       "              author                                     selftext_clean  \\\n",
       "0         rugbyjukes  buenos dias yogis years ago certified teach yo...   \n",
       "2  Lilly-of-the-Lake  issue sort rolling motion knee weight super pa...   \n",
       "3      NeedlessTrash  hello get information yoga already tried start...   \n",
       "4        Creeper2020  wondering people deep clean mats physically cl...   \n",
       "5      Hadouken_Dazs  starting yoga yoga adrienne good channel learn...   \n",
       "\n",
       "                                    selftext_clean_l  identifier  \n",
       "0  buenos dia yogi year ago certified teach yoga ...           1  \n",
       "2  issue sort rolling motion knee weight super pa...           1  \n",
       "3  hello get information yoga already tried start...           1  \n",
       "4  wondering people deep clean mat physically cle...           1  \n",
       "5  starting yoga yoga adrienne good channel learn...           1  "
      ]
     },
     "execution_count": 64,
     "metadata": {},
     "output_type": "execute_result"
    }
   ],
   "source": [
    "combined_self_text.head()"
   ]
  },
  {
   "cell_type": "markdown",
   "metadata": {},
   "source": [
    "### X & Y / Train Test Split"
   ]
  },
  {
   "cell_type": "code",
   "execution_count": 65,
   "metadata": {},
   "outputs": [],
   "source": [
    "X = combined_self_text['selftext_clean_l']\n",
    "y = combined_self_text['identifier']"
   ]
  },
  {
   "cell_type": "code",
   "execution_count": 66,
   "metadata": {},
   "outputs": [],
   "source": [
    "#from our lecture notes; need to create test and train data sets\n",
    "from sklearn.model_selection import train_test_split, GridSearchCV\n",
    "from sklearn.pipeline import Pipeline\n",
    "from sklearn.linear_model import LogisticRegression\n",
    "\n",
    "\n",
    "\n",
    "X_train, X_test, y_train, y_test = train_test_split(X,\n",
    "                                                    y,\n",
    "                                                    test_size=0.33,\n",
    "                                                    stratify=y,\n",
    "                                                    random_state=42)"
   ]
  },
  {
   "cell_type": "code",
   "execution_count": 67,
   "metadata": {},
   "outputs": [
    {
     "data": {
      "text/plain": [
       "1    0.550686\n",
       "0    0.449314\n",
       "Name: identifier, dtype: float64"
      ]
     },
     "execution_count": 67,
     "metadata": {},
     "output_type": "execute_result"
    }
   ],
   "source": [
    "y.value_counts(normalize=True)"
   ]
  },
  {
   "cell_type": "markdown",
   "metadata": {},
   "source": [
    "### Count Vectorizer for modelling"
   ]
  },
  {
   "cell_type": "code",
   "execution_count": 68,
   "metadata": {},
   "outputs": [],
   "source": [
    "from sklearn.feature_extraction.text import CountVectorizer \n",
    "cv = CountVectorizer()\n",
    "X_train_cv = cv.fit_transform(X_train)\n",
    "X_test_cv = cv.transform(X_test)"
   ]
  },
  {
   "cell_type": "markdown",
   "metadata": {},
   "source": [
    "### Best model based on previous work"
   ]
  },
  {
   "cell_type": "code",
   "execution_count": 69,
   "metadata": {},
   "outputs": [
    {
     "name": "stdout",
     "output_type": "stream",
     "text": [
      "Training Score for Self Text using Random Forest Classifier: 0.9844942459115688\n",
      "Test Score for Self text using Random Forest Classifier: 0.9404820462370881\n"
     ]
    }
   ],
   "source": [
    "from sklearn.ensemble import RandomForestClassifier\n",
    "rf = RandomForestClassifier()\n",
    "rf.fit(X_train_cv, y_train)\n",
    "\n",
    "print (f'Training Score for Self Text using Random Forest Classifier: {rf.score(X_train_cv, y_train)}')\n",
    "print (f'Test Score for Self text using Random Forest Classifier: {rf.score(X_test_cv, y_test)}')"
   ]
  },
  {
   "cell_type": "markdown",
   "metadata": {},
   "source": [
    "### Now will pickle the model and vectorizer"
   ]
  },
  {
   "cell_type": "code",
   "execution_count": 70,
   "metadata": {},
   "outputs": [],
   "source": [
    "import pickle\n",
    "\n",
    "Pkl_Filename = 'Y_W_model.pkl'\n",
    "\n",
    "import gzip, pickle, pickletools\n",
    "filepath = \"Y_W_model.pkl\"\n",
    "with gzip.open(filepath, \"wb\") as file:\n",
    "    pickled = pickle.dumps(rf)\n",
    "    optimized_pickle = pickletools.optimize(pickled)\n",
    "    file.write(optimized_pickle)"
   ]
  },
  {
   "cell_type": "code",
   "execution_count": 79,
   "metadata": {},
   "outputs": [],
   "source": [
    "pickle.dump(cv, open('vector.pickle', 'wb'))"
   ]
  },
  {
   "cell_type": "code",
   "execution_count": null,
   "metadata": {},
   "outputs": [],
   "source": [
    "##Testing an input here:"
   ]
  },
  {
   "cell_type": "code",
   "execution_count": 71,
   "metadata": {},
   "outputs": [],
   "source": [
    "#Needed a function to clean input from user\n",
    "import nltk \n",
    "from nltk.stem import WordNetLemmatizer\n",
    "wordnet_lemmatizer = WordNetLemmatizer()\n",
    "import string\n",
    "from bs4 import BeautifulSoup\n",
    "import regex as re\n",
    "from nltk.corpus import stopwords\n",
    "\n",
    "def remove_HTML_punc_lower_stop_l(text):\n",
    "    #function to convert a title or self text into a single string\n",
    "    \n",
    "    #1.Remove HTML\n",
    "    rtext = BeautifulSoup(text).get_text()\n",
    "    \n",
    "    #2. Remove non-letters\n",
    "    letters_only = re.sub('[^a-zA-Z]',' ', rtext)\n",
    "    \n",
    "    #3. Convert to lower case, splits into individual words\n",
    "    words = letters_only.lower().split()\n",
    "    \n",
    "    #4. Remove Stopwords\n",
    "    stops = set(stopwords.words('english'))\n",
    "    \n",
    "    meaningful_words = [wordnet_lemmatizer.lemmatize(w) for w in words if w not in stops]\n",
    "    \n",
    "    return (' '.join(meaningful_words))\n"
   ]
  },
  {
   "cell_type": "code",
   "execution_count": 72,
   "metadata": {},
   "outputs": [],
   "source": [
    "reddit_submission = 'backyard fun cant yoga'"
   ]
  },
  {
   "cell_type": "code",
   "execution_count": 73,
   "metadata": {},
   "outputs": [],
   "source": [
    "cleaned_reddit_submission = remove_HTML_punc_lower_stop_l(reddit_submission)"
   ]
  },
  {
   "cell_type": "code",
   "execution_count": 74,
   "metadata": {},
   "outputs": [
    {
     "data": {
      "text/plain": [
       "'backyard fun cant yoga'"
      ]
     },
     "execution_count": 74,
     "metadata": {},
     "output_type": "execute_result"
    }
   ],
   "source": [
    "cleaned_reddit_submission"
   ]
  },
  {
   "cell_type": "code",
   "execution_count": 75,
   "metadata": {},
   "outputs": [],
   "source": [
    "X1 = [cleaned_reddit_submission]"
   ]
  },
  {
   "cell_type": "code",
   "execution_count": 76,
   "metadata": {},
   "outputs": [],
   "source": [
    "X1_cv = cv.transform(X1)"
   ]
  },
  {
   "cell_type": "code",
   "execution_count": 77,
   "metadata": {},
   "outputs": [],
   "source": [
    "y_pred1 = rf.predict(X1_cv)"
   ]
  },
  {
   "cell_type": "code",
   "execution_count": 78,
   "metadata": {},
   "outputs": [
    {
     "data": {
      "text/plain": [
       "1"
      ]
     },
     "execution_count": 78,
     "metadata": {},
     "output_type": "execute_result"
    }
   ],
   "source": [
    "y_pred1[0]"
   ]
  },
  {
   "cell_type": "code",
   "execution_count": null,
   "metadata": {},
   "outputs": [],
   "source": []
  }
 ],
 "metadata": {
  "kernelspec": {
   "display_name": "Python 3",
   "language": "python",
   "name": "python3"
  },
  "language_info": {
   "codemirror_mode": {
    "name": "ipython",
    "version": 3
   },
   "file_extension": ".py",
   "mimetype": "text/x-python",
   "name": "python",
   "nbconvert_exporter": "python",
   "pygments_lexer": "ipython3",
   "version": "3.7.6"
  }
 },
 "nbformat": 4,
 "nbformat_minor": 4
}
